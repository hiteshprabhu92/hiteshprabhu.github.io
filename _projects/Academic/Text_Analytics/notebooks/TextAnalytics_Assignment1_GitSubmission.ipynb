{
 "cells": [
  {
   "cell_type": "markdown",
   "metadata": {},
   "source": [
    "# Text Analytics\n",
    "\n",
    "\n",
    "# Assignment 1"
   ]
  },
  {
   "cell_type": "markdown",
   "metadata": {},
   "source": [
    "### *Submitted by:*  \n",
    "\n",
    "**Zena Drakou | Marissa Hausman | Hitesh Prabhu | Chase Slocum | Yawen Ye - MSBA 2017 **\n",
    "\n",
    "**Sept 6, 2016**"
   ]
  },
  {
   "cell_type": "markdown",
   "metadata": {},
   "source": [
    "### Initial Setup:\n",
    "\n",
    "1. Importing libraries\n",
    "2. Reading dataset"
   ]
  },
  {
   "cell_type": "code",
   "execution_count": 1,
   "metadata": {},
   "outputs": [],
   "source": [
    "from pandas import Series, DataFrame\n",
    "import numpy as np\n",
    "import pandas as pd\n",
    "import matplotlib.pyplot as plt \n",
    "import seaborn as sns\n",
    "%matplotlib inline\n",
    "\n",
    "import nltk\n",
    "from nltk import word_tokenize\n",
    "from nltk.corpus import wordnet\n",
    "from nltk.corpus import stopwords\n",
    "from nltk.stem import WordNetLemmatizer\n",
    "\n",
    "from sklearn.metrics import confusion_matrix\n",
    "\n",
    "import random\n",
    "import string\n",
    "import math"
   ]
  },
  {
   "cell_type": "code",
   "execution_count": 2,
   "metadata": {
    "collapsed": true
   },
   "outputs": [],
   "source": [
    "job = pd.read_csv(\"files\\Train_rev1.csv\")\n",
    "salary = job[\"SalaryNormalized\"]\n",
    "\n",
    "quantile_75 = salary.quantile(q = 0.75)\n",
    "job[\"salary_category\"] = \"\"\n",
    "job.loc[job[\"SalaryNormalized\"] >= quantile_75, \"salary_category\"] = \"High Salary\"\n",
    "job.loc[job[\"SalaryNormalized\"] < quantile_75, \"salary_category\"] = \"Low Salary\""
   ]
  },
  {
   "cell_type": "markdown",
   "metadata": {},
   "source": [
    "Creating sample size to run the notebook on"
   ]
  },
  {
   "cell_type": "code",
   "execution_count": 3,
   "metadata": {
    "collapsed": true
   },
   "outputs": [],
   "source": [
    "subset_size = 10000\n",
    "feature_set = subset_size/2"
   ]
  },
  {
   "cell_type": "markdown",
   "metadata": {},
   "source": [
    "## Part A "
   ]
  },
  {
   "cell_type": "markdown",
   "metadata": {},
   "source": [
    "#### A1 - What are the top 5 parts of speech in this corpus of job descriptions? How frequently do they appear?"
   ]
  },
  {
   "cell_type": "code",
   "execution_count": 4,
   "metadata": {},
   "outputs": [
    {
     "data": {
      "text/plain": [
       "[('NN', 626738),\n",
       " ('JJ', 274481),\n",
       " ('IN', 258077),\n",
       " ('DT', 193658),\n",
       " ('NNS', 191164)]"
      ]
     },
     "execution_count": 4,
     "metadata": {},
     "output_type": "execute_result"
    }
   ],
   "source": [
    "# Creating 2 lists 'des' and 'cat' for the description and the category respectively\n",
    "descriptions = []\n",
    "categories = []\n",
    "\n",
    "# Function to encode the text to 'utf-8' before tokenization\n",
    "def tolist_utf8(h):\n",
    "    descriptions.append(h.decode('utf-8').lower())\n",
    "\n",
    "# put the values from salary_category column into list\n",
    "def tolist(h):\n",
    "    categories.append(h)   \n",
    "\n",
    "dess = job[\"FullDescription\"]\n",
    "dess.map(tolist_utf8)\n",
    "\n",
    "cate = job[\"salary_category\"]\n",
    "cate.map(tolist)\n",
    "\n",
    "descriptions_subset = []\n",
    "\n",
    "# picking a subset of the job-descriptions dataset\n",
    "for i in range(subset_size):\n",
    "    descriptions_subset.append(nltk.word_tokenize(descriptions[i]))\n",
    "\n",
    "# Creating one list with all the words \n",
    "jobdes_bow = []\n",
    "for i in range(subset_size):\n",
    "    for j in range(len(descriptions_subset[i])):\n",
    "        jobdes_bow.append(descriptions_subset[i][j])\n",
    "\n",
    "jobdes_pos_tagged = nltk.pos_tag(jobdes_bow)\n",
    "jobdes_pos_tagged_freq = nltk.FreqDist(tag_single for (word, tag_single) in jobdes_pos_tagged)\n",
    "jobdes_pos_tagged_freq.most_common(5)"
   ]
  },
  {
   "cell_type": "markdown",
   "metadata": {},
   "source": [
    "_The top 5 parts of speech were found to be Nouns (singular), Adjectives, Preposition/conjunctions, Determiners and Common Nouns (Plural)_"
   ]
  },
  {
   "cell_type": "markdown",
   "metadata": {},
   "source": [
    "#### A2 - Zipf's law: Does this corpus support Zipf’s law? Plot the most common 100 words in the corpus against the theoretical prediction of the law. For this question, do not remove stopwords. Also do not perform stemming or lemmatization.\n",
    "\n",
    "#### Code reference from this link: \n",
    "https://www.garysieling.com/blog/exploring-zipfs-law-with-python-nltk-scipy-and-matplotlib"
   ]
  },
  {
   "cell_type": "code",
   "execution_count": 5,
   "metadata": {
    "scrolled": true
   },
   "outputs": [
    {
     "name": "stdout",
     "output_type": "stream",
     "text": [
      "[[ 1.          0.91329394]\n",
      " [ 0.91329394  1.        ]]\n"
     ]
    },
    {
     "data": {
      "text/plain": [
       "[<matplotlib.lines.Line2D at 0x854e0438>]"
      ]
     },
     "execution_count": 5,
     "metadata": {},
     "output_type": "execute_result"
    },
    {
     "data": {
      "image/png": "[encoded data removed]",
      "text/plain": [
       "<matplotlib.figure.Figure at 0x806634a8>"
      ]
     },
     "metadata": {},
     "output_type": "display_data"
    }
   ],
   "source": [
    "top100_wordcount_list = []\n",
    "jobdes_word_freq = nltk.FreqDist(word for (word, tag_single) in jobdes_pos_tagged)\n",
    "\n",
    "# putting the most common 100 words with their counts into a list\n",
    "for word, frequency in jobdes_word_freq.most_common(100):\n",
    "    top100_wordcount_list.append((word, frequency))\n",
    "\n",
    "import scipy.stats as ss\n",
    " \n",
    "amb = [(w, c, len(wordnet.synsets(w))) for (w, c) in top100_wordcount_list if len(wordnet.synsets(w)) > 0]\n",
    " \n",
    "amb_p_rank = ss.rankdata([p for (w, c, p) in amb])\n",
    "amb_c_rank = ss.rankdata([c for (w, c, p) in amb])\n",
    " \n",
    "amb_ranked = zip(amb, amb_p_rank, amb_c_rank)\n",
    " \n",
    "print np.corrcoef(amb_c_rank, [math.log(c) for (w, c, p) in amb])\n",
    "\n",
    "import matplotlib\n",
    "rev = [100-r+1 for r in amb_c_rank]\n",
    "\n",
    "plt.plot([math.log(c) for c in rev], [math.log(c) for (w, c, p) in amb], 'ro')\n",
    "\n",
    "# plt.plot([c for (w,c,p) in amb], [p for (w,c,p) in amb], 'bs')"
   ]
  },
  {
   "cell_type": "markdown",
   "metadata": {},
   "source": [
    "_This corpus follows Zipf's Law_"
   ]
  },
  {
   "cell_type": "markdown",
   "metadata": {},
   "source": [
    "#### A3: If we remove stopwords and lemmatize the corpus, what are the 10 most common words? What is their frequency?"
   ]
  },
  {
   "cell_type": "code",
   "execution_count": 6,
   "metadata": {},
   "outputs": [
    {
     "name": "stdout",
     "output_type": "stream",
     "text": [
      "experience: 17298\n",
      "work: 12311\n",
      "care: 11975\n",
      "role: 11796\n",
      "client: 11600\n",
      "team: 11055\n",
      "working: 10014\n",
      "service: 9463\n",
      "within: 9245\n",
      "manager: 9103\n"
     ]
    }
   ],
   "source": [
    "lemmatizer = WordNetLemmatizer()\n",
    "\n",
    "stop_words = set(stopwords.words(\"english\"))\n",
    "# remove it if you need punctuation\n",
    "stop_words.update(['.', ',', '\"', \"'\", '?', '!', ':', ';', '(', ')', '[', ']', '{', '}','****']) \n",
    "\n",
    "jobdes_cleaned = []\n",
    "jobdes_lemmatized = []\n",
    "jobdes_nostopwords = []\n",
    "\n",
    "# pick a small subset of the dataset\n",
    "for i in range(subset_size):\n",
    "    word_tokenize = nltk.word_tokenize(descriptions[i])\n",
    "    lemma_word = map(lambda x: lemmatizer.lemmatize(x), word_tokenize)\n",
    "    jobdes_lemmatized.append(lemma_word)\n",
    "    no_stop = filter(lambda x: x not in stop_words, word_tokenize)\n",
    "    jobdes_nostopwords.append(no_stop)\n",
    "    cleaned_text = filter(lambda x: x not in stop_words, lemma_word)\n",
    "    jobdes_cleaned.append(cleaned_text)\n",
    "\n",
    "jobdes_bow_cleaned = []\n",
    "jobdes_bow_lemmatized = []\n",
    "jobdes_bow_nostopwords = []\n",
    "\n",
    "for i in range(subset_size):\n",
    "    for j in range(len(jobdes_cleaned[i])):\n",
    "        jobdes_bow_cleaned.append(jobdes_cleaned[i][j])\n",
    "    for k in range(len(jobdes_lemmatized[i])):\n",
    "        jobdes_bow_lemmatized.append(jobdes_lemmatized[i][k])\n",
    "    for l in range(len(jobdes_nostopwords[i])):\n",
    "        jobdes_bow_nostopwords.append(jobdes_nostopwords[i][l])\n",
    "\n",
    "jobdes_bow_cleaned_freq = nltk.FreqDist(jobdes_bow_cleaned)\n",
    "jobdes_bow_lemmatized_freq = nltk.FreqDist(jobdes_bow_lemmatized)\n",
    "jobdes_bow_nostopwords_freq = nltk.FreqDist(jobdes_bow_nostopwords)\n",
    "\n",
    "# print out the most common 50 words with their count\n",
    "for word, frequency in jobdes_bow_cleaned_freq.most_common(10):\n",
    "    print('%s: %d' % (word, frequency)).encode('utf-8')"
   ]
  },
  {
   "cell_type": "markdown",
   "metadata": {},
   "source": [
    "## Part B"
   ]
  },
  {
   "cell_type": "markdown",
   "metadata": {},
   "source": [
    "#### B1 - Create a classification model with all words and the bag-of-words approach. How accurate is the model (show the confusion matrix)?"
   ]
  },
  {
   "cell_type": "code",
   "execution_count": 7,
   "metadata": {},
   "outputs": [
    {
     "name": "stdout",
     "output_type": "stream",
     "text": [
      "('Classifier accuracy percent:', 78.68)\n",
      "            |             H |\n",
      "            |      L      i |\n",
      "            |      o      g |\n",
      "            |      w      h |\n",
      "            |               |\n",
      "            |      S      S |\n",
      "            |      a      a |\n",
      "            |      l      l |\n",
      "            |      a      a |\n",
      "            |      r      r |\n",
      "            |      y      y |\n",
      "------------+---------------+\n",
      " Low Salary | <68.8%> 12.4% |\n",
      "High Salary |   8.9%  <9.9%>|\n",
      "------------+---------------+\n",
      "(row = reference; col = test)\n",
      "\n"
     ]
    }
   ],
   "source": [
    "document = []\n",
    "\n",
    "# pick a small subset of the dataset\n",
    "for i in range(subset_size):\n",
    "    tup = (nltk.word_tokenize(descriptions[i]), categories[i])\n",
    "    document.append(tup)\n",
    "\n",
    "# we have to shuffle the documents to test on seperate data that did not train again.\n",
    "random.shuffle(document)\n",
    "\n",
    "# reusing descriptions_subset, jobdes_bow, jobdes_word_freq\n",
    "\n",
    "# choose words having the highest frequency among all words as our features, the number of feature = data_size/2\n",
    "jobdes_bow_freq = nltk.FreqDist(jobdes_bow)\n",
    "word_feature = list(jobdes_bow_freq.keys())[:feature_set]\n",
    "\n",
    "# This function will return whether or not the word in feature set appear among the words in document\n",
    "def find_features(document):\n",
    "    words = set(document)\n",
    "    features = {}\n",
    "    for w in word_feature:\n",
    "        features[w] = (w in words) # return boolean if the 500 words feature appear in the document or not\n",
    "\n",
    "    return features\n",
    "\n",
    "# find_feature(description) gives whether or not top 500 words appear in each job description \n",
    "featuresets = [(find_features(description), category) for (description, category) in document]\n",
    "\n",
    "# set that we'll train our classifier with\n",
    "subset_size_mid = subset_size/2\n",
    "training_set = featuresets[:subset_size_mid]\n",
    "# set that we'll test against.\n",
    "testing_set = featuresets[subset_size_mid:]\n",
    "testing_set_mod = [x[0] for x in testing_set]\n",
    "\n",
    "# Running Naive Bayes classifier\n",
    "classifier = nltk.NaiveBayesClassifier.train(training_set)\n",
    "print(\"Classifier accuracy percent:\",(nltk.classify.accuracy(classifier, testing_set))*100)\n",
    "predicted_categories_NaiveBayes =  classifier.classify_many(testing_set_mod)\n",
    "actual_categories = [x[1] for x in testing_set]\n",
    "\n",
    "# Printing confusion matrix\n",
    "cm = nltk.ConfusionMatrix(actual_categories, predicted_categories_NaiveBayes)\n",
    "print(cm.pretty_format(sort_by_count=True, show_percents=True))"
   ]
  },
  {
   "cell_type": "markdown",
   "metadata": {},
   "source": [
    "_The model does well on predicting Low Salary correctly (~85% Precision) and much worse on predicting High Salary (~45% Precision) _"
   ]
  },
  {
   "cell_type": "markdown",
   "metadata": {},
   "source": [
    "#### B2 - Speculate before running the following analysis whether lemmatization would help improve the accuracy of classification. Now create a classification model after lemmatization. Did the classification accuracy increase relative to B1? Comment on your speculation versus the actual results you obtained."
   ]
  },
  {
   "cell_type": "code",
   "execution_count": 8,
   "metadata": {},
   "outputs": [
    {
     "name": "stdout",
     "output_type": "stream",
     "text": [
      "('Classifier accuracy percent:', 79.2)\n",
      "            |             H |\n",
      "            |      L      i |\n",
      "            |      o      g |\n",
      "            |      w      h |\n",
      "            |               |\n",
      "            |      S      S |\n",
      "            |      a      a |\n",
      "            |      l      l |\n",
      "            |      a      a |\n",
      "            |      r      r |\n",
      "            |      y      y |\n",
      "------------+---------------+\n",
      " Low Salary | <69.7%> 12.0% |\n",
      "High Salary |   8.8%  <9.5%>|\n",
      "------------+---------------+\n",
      "(row = reference; col = test)\n",
      "\n"
     ]
    }
   ],
   "source": [
    "lemmatizer = WordNetLemmatizer()\n",
    "\n",
    "document_lemmatized = []\n",
    "\n",
    "# reusing descriptions_subset, jobdes_bow, jobdes_word_freq, jobdes_bow_lemmatized, jobdes_bow_nostopwords,\n",
    "# jobdes_bow_lemmatized_freq, jobdes_bow_nostopwords_freq, function find_features\n",
    "\n",
    "# pick a small subset of the dataset\n",
    "for i in range(subset_size):\n",
    "    word_tokenize = nltk.word_tokenize(descriptions[i])\n",
    "    lemma_word = map(lambda x: lemmatizer.lemmatize(x), word_tokenize)\n",
    "    tup = (lemma_word, categories[i])\n",
    "    document_lemmatized.append(tup)\n",
    "    \n",
    "random.shuffle(document_lemmatized)\n",
    "\n",
    "jobdes_bow_lemmatized_freq = nltk.FreqDist(jobdes_bow_lemmatized)\n",
    "# choose the top 500 words having the highest frequency among all words as our features\n",
    "word_feature = list(jobdes_bow_lemmatized_freq.keys())[:feature_set]\n",
    "\n",
    "# find_feature(description) gives whether or not top 500 words appear in each job description \n",
    "featuresets = [(find_features(description), category) for (description, category) in document_lemmatized]\n",
    "\n",
    "# set that we'll train our classifier with\n",
    "subset_size_mid = subset_size/2\n",
    "training_set = featuresets[:subset_size_mid]\n",
    "# set that we'll test against.\n",
    "testing_set = featuresets[subset_size_mid:]\n",
    "testing_set_mod = [x[0] for x in testing_set]\n",
    "\n",
    "# Running Naive Bayes classifier\n",
    "classifier = nltk.NaiveBayesClassifier.train(training_set)\n",
    "print(\"Classifier accuracy percent:\",(nltk.classify.accuracy(classifier, testing_set))*100)\n",
    "predicted_categories_NaiveBayes =  classifier.classify_many(testing_set_mod)\n",
    "actual_categories = [x[1] for x in testing_set]\n",
    "\n",
    "# Printing confusion matrix\n",
    "cm = nltk.ConfusionMatrix(actual_categories, predicted_categories_NaiveBayes)\n",
    "print(cm.pretty_format(sort_by_count=True, show_percents=True))"
   ]
  },
  {
   "cell_type": "markdown",
   "metadata": {},
   "source": [
    "_The accuracy overall increases to 79.2 from 78.7: The in-class precision also increase in the relative magnitude_"
   ]
  },
  {
   "cell_type": "markdown",
   "metadata": {},
   "source": [
    "#### B3 - Now speculate whether stopwords removal from the original data would help increase the accuracy of the model. Take out the stopwords (but do not lemmatize), build a classification model and check the accuracy, and compare with that in B1 & B2. Also show the top 10 words (excluding stopwords) that are most indicative of (i) high salary, and (ii) low salary.   "
   ]
  },
  {
   "cell_type": "code",
   "execution_count": 9,
   "metadata": {},
   "outputs": [
    {
     "name": "stdout",
     "output_type": "stream",
     "text": [
      "('Classifier accuracy percent:', 78.18)\n",
      "            |             H |\n",
      "            |      L      i |\n",
      "            |      o      g |\n",
      "            |      w      h |\n",
      "            |               |\n",
      "            |      S      S |\n",
      "            |      a      a |\n",
      "            |      l      l |\n",
      "            |      a      a |\n",
      "            |      r      r |\n",
      "            |      y      y |\n",
      "------------+---------------+\n",
      " Low Salary | <68.6%> 12.7% |\n",
      "High Salary |   9.1%  <9.6%>|\n",
      "------------+---------------+\n",
      "(row = reference; col = test)\n",
      "\n",
      "Most Informative Features\n",
      "                 teacher = True           Low Sa : High S =     21.0 : 1.0\n",
      "                    rota = True           Low Sa : High S =     19.1 : 1.0\n",
      "                 exploit = True           High S : Low Sa =     15.5 : 1.0\n",
      "             immigration = True           Low Sa : High S =     13.7 : 1.0\n",
      "                 cooking = True           Low Sa : High S =     13.5 : 1.0\n",
      "                     ibm = True           High S : Low Sa =     12.6 : 1.0\n",
      "                     mba = True           High S : Low Sa =     12.6 : 1.0\n",
      "                 domains = True           High S : Low Sa =     12.6 : 1.0\n",
      "                 j****ee = True           High S : Low Sa =     12.6 : 1.0\n",
      "                realtime = True           High S : Low Sa =     11.7 : 1.0\n",
      "                 michael = True           High S : Low Sa =     11.2 : 1.0\n",
      "                    star = True           Low Sa : High S =     11.0 : 1.0\n",
      "                    sand = True           High S : Low Sa =     11.0 : 1.0\n",
      "               obviously = True           High S : Low Sa =     11.0 : 1.0\n",
      "               oversight = True           High S : Low Sa =     11.0 : 1.0\n",
      "                   night = True           Low Sa : High S =     10.5 : 1.0\n",
      "               infirmity = True           High S : Low Sa =      9.8 : 1.0\n",
      "           architectural = True           High S : Low Sa =      9.8 : 1.0\n",
      "                  embark = True           High S : Low Sa =      9.8 : 1.0\n",
      "                  abaqus = True           High S : Low Sa =      9.8 : 1.0\n",
      "               millshill = True           High S : Low Sa =      9.8 : 1.0\n",
      "                contents = True           High S : Low Sa =      9.8 : 1.0\n",
      "                   quinn = True           High S : Low Sa =      9.8 : 1.0\n",
      "            dependencies = True           High S : Low Sa =      9.3 : 1.0\n",
      "               actuarial = True           High S : Low Sa =      9.3 : 1.0\n",
      "                 ****kpa = True           High S : Low Sa =      9.3 : 1.0\n",
      "              challenged = True           High S : Low Sa =      9.0 : 1.0\n",
      "              initiation = True           High S : Low Sa =      8.0 : 1.0\n",
      "          www.huxley.com = True           High S : Low Sa =      8.0 : 1.0\n",
      "              definition = True           High S : Low Sa =      7.9 : 1.0\n",
      "                assesses = True           High S : Low Sa =      7.8 : 1.0\n",
      "                  spoken = True           Low Sa : High S =      7.7 : 1.0\n",
      "                     ceo = True           High S : Low Sa =      7.6 : 1.0\n",
      "                  fabric = True           High S : Low Sa =      7.6 : 1.0\n",
      "          petrochemicals = True           High S : Low Sa =      7.6 : 1.0\n",
      "                  netapp = True           High S : Low Sa =      7.6 : 1.0\n",
      "                     cmc = True           High S : Low Sa =      7.5 : 1.0\n",
      "                 kitchen = True           Low Sa : High S =      7.4 : 1.0\n",
      "                entities = True           High S : Low Sa =      7.0 : 1.0\n",
      "                adaptive = True           High S : Low Sa =      7.0 : 1.0\n",
      "            anticipating = True           High S : Low Sa =      7.0 : 1.0\n",
      "                ondemand = True           High S : Low Sa =      7.0 : 1.0\n",
      "                toolkits = True           High S : Low Sa =      7.0 : 1.0\n",
      "                powering = True           High S : Low Sa =      7.0 : 1.0\n",
      "                 lan/wan = True           High S : Low Sa =      7.0 : 1.0\n",
      "                    rina = True           High S : Low Sa =      7.0 : 1.0\n",
      "                fortinet = True           High S : Low Sa =      7.0 : 1.0\n",
      "                    dave = True           High S : Low Sa =      7.0 : 1.0\n",
      "                    ppap = True           High S : Low Sa =      7.0 : 1.0\n",
      "                  6month = True           High S : Low Sa =      7.0 : 1.0\n",
      "None\n"
     ]
    }
   ],
   "source": [
    "stop_words = set(stopwords.words(\"english\"))  # load stopwords\n",
    "stop_words.update(['.', ',', '\"', \"'\", '?', '!', ':', ';', '(', ')', '[', ']', '{', '}','****']) \n",
    "\n",
    "from nltk.stem import WordNetLemmatizer\n",
    "lemmatizer = WordNetLemmatizer()\n",
    "\n",
    "document_nostopwords = []\n",
    "\n",
    "# reusing descriptions_subset, jobdes_bow, jobdes_word_freq, jobdes_bow_lemmatized, jobdes_bow_nostopwords,\n",
    "# jobdes_bow_lemmatized_freq, jobdes_bow_nostopwords_freq, function find_features\n",
    "\n",
    "# pick a small subset of the dataset\n",
    "for i in range(subset_size):\n",
    "    word_tokenize = nltk.word_tokenize(descriptions[i])\n",
    "    cleaned_text = filter(lambda x: x not in stop_words, word_tokenize)\n",
    "    tup = (cleaned_text, categories[i])\n",
    "    document_nostopwords.append(tup)\n",
    "    \n",
    "random.shuffle(document_nostopwords)\n",
    "\n",
    "jobdes_bow_nostopwords_freq = nltk.FreqDist(jobdes_bow_nostopwords)\n",
    "\n",
    "# choose the top 500 words having the highest frequency among all words as our features\n",
    "word_feature = list(jobdes_bow_nostopwords_freq.keys())[:feature_set]\n",
    "\n",
    "# find_feature(description) gives whether or not top 500 words appear in each job description \n",
    "featuresets = [(find_features(description), category) for (description, category) in document_nostopwords]\n",
    "\n",
    "# set that we'll train our classifier with\n",
    "subset_size_mid = subset_size/2\n",
    "training_set = featuresets[:subset_size_mid]\n",
    "# set that we'll test against.\n",
    "testing_set = featuresets[subset_size_mid:]\n",
    "testing_set_mod = [x[0] for x in testing_set]\n",
    "\n",
    "# Running Naive Bayes classifier\n",
    "classifier = nltk.NaiveBayesClassifier.train(training_set)\n",
    "print(\"Classifier accuracy percent:\",(nltk.classify.accuracy(classifier, testing_set))*100)\n",
    "predicted_categories_NaiveBayes =  classifier.classify_many(testing_set_mod)\n",
    "actual_categories = [x[1] for x in testing_set]\n",
    "\n",
    "# Printing confusion matrix\n",
    "cm = nltk.ConfusionMatrix(actual_categories, predicted_categories_NaiveBayes)\n",
    "print(cm.pretty_format(sort_by_count=True, show_percents=True))\n",
    "\n",
    "# Printing indicative words for high salary and low salary\n",
    "print classifier.show_most_informative_features(50)"
   ]
  },
  {
   "cell_type": "markdown",
   "metadata": {},
   "source": [
    "_The overall accuracy remains around the same as B2_"
   ]
  },
  {
   "cell_type": "markdown",
   "metadata": {
    "collapsed": true
   },
   "source": [
    "#### B4 - Use the job descriptions without lemmatiztion and stopword removal. Add parts-of-speech bigrams to the bag-of-words, and run a new classification model. Does the accuracy increase over the results in B1?  "
   ]
  },
  {
   "cell_type": "code",
   "execution_count": 10,
   "metadata": {},
   "outputs": [
    {
     "name": "stdout",
     "output_type": "stream",
     "text": [
      "('Classifier accuracy percent:', 77.29545909181836)\n",
      "            |             H |\n",
      "            |      L      i |\n",
      "            |      o      g |\n",
      "            |      w      h |\n",
      "            |               |\n",
      "            |      S      S |\n",
      "            |      a      a |\n",
      "            |      l      l |\n",
      "            |      a      a |\n",
      "            |      r      r |\n",
      "            |      y      y |\n",
      "------------+---------------+\n",
      " Low Salary | <67.0%> 13.6% |\n",
      "High Salary |   9.1% <10.3%>|\n",
      "------------+---------------+\n",
      "(row = reference; col = test)\n",
      "\n",
      "Most Informative Features\n",
      "              initiation = True           High S : Low Sa =     30.9 : 1.0\n",
      "                 j****ee = True           High S : Low Sa =     22.1 : 1.0\n",
      "           (\"''\", 'NNS') = True           High S : Low Sa =     19.2 : 1.0\n",
      "                     ibm = True           High S : Low Sa =     19.2 : 1.0\n",
      "             integrating = True           High S : Low Sa =     18.6 : 1.0\n",
      "                    rota = True           Low Sa : High S =     17.1 : 1.0\n",
      "                 teacher = True           Low Sa : High S =     17.0 : 1.0\n",
      "          www.huxley.com = True           High S : Low Sa =     16.8 : 1.0\n",
      "               caseloads = True           High S : Low Sa =     16.2 : 1.0\n",
      "               increment = True           High S : Low Sa =     16.2 : 1.0\n",
      "                 fortune = True           High S : Low Sa =     16.2 : 1.0\n",
      "          ('VBN', 'RBR') = True           High S : Low Sa =     13.3 : 1.0\n",
      "                 exploit = True           High S : Low Sa =     13.3 : 1.0\n",
      "            ('NNP', ':') = True           High S : Low Sa =     13.3 : 1.0\n",
      "               millshill = True           High S : Low Sa =     13.3 : 1.0\n",
      "                   istqb = True           High S : Low Sa =     13.3 : 1.0\n",
      "             ('$', 'IN') = True           High S : Low Sa =     13.3 : 1.0\n",
      "                  macros = True           High S : Low Sa =     13.3 : 1.0\n",
      "                     aml = True           High S : Low Sa =     13.3 : 1.0\n",
      "                assesses = True           High S : Low Sa =     13.3 : 1.0\n",
      "            satisfactory = True           Low Sa : High S =     12.9 : 1.0\n",
      "                weekends = True           Low Sa : High S =     12.6 : 1.0\n",
      "              testdriven = True           High S : Low Sa =     10.3 : 1.0\n",
      "                  majors = True           High S : Low Sa =     10.3 : 1.0\n",
      "        highavailability = True           High S : Low Sa =     10.3 : 1.0\n",
      "           environmentto = True           High S : Low Sa =     10.3 : 1.0\n",
      "               expansive = True           High S : Low Sa =     10.3 : 1.0\n",
      "          ('VBD', 'JJS') = True           High S : Low Sa =     10.3 : 1.0\n",
      "            ('(', 'WDT') = True           High S : Low Sa =      9.7 : 1.0\n",
      "              visibility = True           High S : Low Sa =      9.7 : 1.0\n",
      "                seasoned = True           High S : Low Sa =      9.7 : 1.0\n",
      "                   night = True           Low Sa : High S =      9.6 : 1.0\n",
      "             immigration = True           Low Sa : High S =      9.2 : 1.0\n",
      "             (',', 'EX') = True           Low Sa : High S =      9.0 : 1.0\n",
      "         implementations = True           High S : Low Sa =      8.5 : 1.0\n",
      "                    ssis = True           High S : Low Sa =      7.8 : 1.0\n",
      "           architectural = True           High S : Low Sa =      7.6 : 1.0\n",
      "             appreciated = True           High S : Low Sa =      7.4 : 1.0\n",
      "                     20m = True           High S : Low Sa =      7.4 : 1.0\n",
      "                   grave = True           High S : Low Sa =      7.4 : 1.0\n",
      "                 schemas = True           High S : Low Sa =      7.4 : 1.0\n",
      "          ('VBD', 'PDT') = True           High S : Low Sa =      7.4 : 1.0\n",
      "                     brc = True           High S : Low Sa =      7.4 : 1.0\n",
      "            ('WDT', ',') = True           High S : Low Sa =      7.4 : 1.0\n",
      "            ('RP', 'MD') = True           High S : Low Sa =      7.4 : 1.0\n",
      "           accomplishing = True           High S : Low Sa =      7.4 : 1.0\n",
      "             multiagency = True           High S : Low Sa =      7.4 : 1.0\n",
      "                    swan = True           High S : Low Sa =      7.4 : 1.0\n",
      "                  abaqus = True           High S : Low Sa =      7.4 : 1.0\n",
      "              permanency = True           High S : Low Sa =      7.4 : 1.0\n",
      "None\n"
     ]
    }
   ],
   "source": [
    "document_pos_bigrams = []\n",
    "\n",
    "# pick a small subset of the dataset\n",
    "for i in range(subset_size):\n",
    "    word_tokenize = nltk.word_tokenize(descriptions[i])\n",
    "    word_tokenize_pos = nltk.pos_tag(word_tokenize)\n",
    "    pos = [x[1] for x in word_tokenize_pos]\n",
    "    pos_bigram = nltk.ngrams(pos,2)\n",
    "    tup = (word_tokenize + list(pos_bigram), categories[i])\n",
    "    document_pos_bigrams.append(tup)\n",
    "    \n",
    "random.shuffle(document_pos_bigrams)\n",
    "\n",
    "# reusing descriptions_subset, jobdes_bow, jobdes_word_freq\n",
    "\n",
    "# choose the top 500 pos-bigrams having the highest frequency among all words as our features\n",
    "jobdes_pos = nltk.pos_tag(jobdes_bow)\n",
    "jobdes_pos_only = [x[1] for x in jobdes_pos]\n",
    "jobdes_pos_bigrams =  nltk.ngrams(jobdes_pos_only,2)\n",
    "# print document_pos_bigrams[:10]\n",
    "jobdes_pos_bigrams_freq = nltk.FreqDist(jobdes_pos_bigrams)\n",
    "word_feature_1 = list(jobdes_pos_bigrams_freq.keys())[:feature_set]\n",
    "word_feature_2 = list(jobdes_bow_freq.keys())[:feature_set]\n",
    "word_feature = word_feature_2 + word_feature_1\n",
    "# document_pos_bigrams = document + document_pos_bigrams\n",
    "\n",
    "def find_bigram_features(document_pos_bigrams):\n",
    "    words = set(document_pos_bigrams)\n",
    "    features = {}\n",
    "#     count = 0\n",
    "    for w_bigram in word_feature:\n",
    "        features[w_bigram] = (w_bigram in words) # return boolean if the 500 words feature appear in the document or not\n",
    "#         for ww in words:\n",
    "#             if w == ww:\n",
    "#                 count += 1\n",
    "#         features[w] = (count) # return count the each 50 words feature appear in the document\n",
    "    return features\n",
    "\n",
    "# find_feature(description) gives whether or not top 500 words appear in each job description \n",
    "featuresets = [(find_bigram_features(description), category) for (description, category) in document_pos_bigrams]\n",
    "\n",
    "# set that we'll train our classifier with\n",
    "subset_size_mid = subset_size/2\n",
    "training_set = featuresets[:subset_size_mid]\n",
    "# set that we'll test against.\n",
    "testing_set = featuresets[subset_size_mid+1:]\n",
    "testing_set_mod = [x[0] for x in testing_set]\n",
    "\n",
    "# Running Naive Bayes classifier\n",
    "classifier = nltk.NaiveBayesClassifier.train(training_set)\n",
    "print(\"Classifier accuracy percent:\",(nltk.classify.accuracy(classifier, testing_set))*100)\n",
    "predicted_categories_NaiveBayes =  classifier.classify_many(testing_set_mod)\n",
    "actual_categories = [x[1] for x in testing_set]\n",
    "\n",
    "# Printing confusion matrix\n",
    "cm = nltk.ConfusionMatrix(actual_categories, predicted_categories_NaiveBayes)\n",
    "print(cm.pretty_format(sort_by_count=True, show_percents=True))\n",
    "\n",
    "# Printing indicative words for high salary and low salary\n",
    "print classifier.show_most_informative_features(50)"
   ]
  },
  {
   "cell_type": "markdown",
   "metadata": {},
   "source": [
    "_The overall performance of the model does not change significantly_"
   ]
  }
 ],
 "metadata": {
  "anaconda-cloud": {},
  "kernelspec": {
   "display_name": "Python 2",
   "language": "python",
   "name": "python2"
  },
  "language_info": {
   "codemirror_mode": {
    "name": "ipython",
    "version": 2
   },
   "file_extension": ".py",
   "mimetype": "text/x-python",
   "name": "python",
   "nbconvert_exporter": "python",
   "pygments_lexer": "ipython2",
   "version": "2.7.13"
  }
 },
 "nbformat": 4,
 "nbformat_minor": 1
}
